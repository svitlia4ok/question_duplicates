{
 "cells": [
  {
   "cell_type": "markdown",
   "metadata": {
    "vscode": {
     "languageId": "plaintext"
    }
   },
   "source": [
    "## Intro\n",
    "The task is to classify whether two given pairs of questions have the same meaning. Using natural language processing methods, I will predict if the question pairs are duplicates. This task is useful for various businesses as it helps automate the detection of duplicate content or similar elements. For example, it can be used to identify similar product names on marketplaces, duplicate entries in customer databases, or recurring inquiries in messages to stores.\n",
    "\n",
    "My goal is to learn to predict the likelihood that question pairs are duplicates and to build the most accurate model possible."
   ]
  },
  {
   "cell_type": "code",
   "execution_count": 1,
   "metadata": {},
   "outputs": [
    {
     "name": "stdout",
     "output_type": "stream",
     "text": [
      "Requirement already satisfied: nltk in /Users/olgamordachova/PycharmProjects/pythonProject/.venv/lib/python3.9/site-packages (3.9.1)\n",
      "Requirement already satisfied: click in /Users/olgamordachova/PycharmProjects/pythonProject/.venv/lib/python3.9/site-packages (from nltk) (8.1.7)\n",
      "Requirement already satisfied: joblib in /Users/olgamordachova/PycharmProjects/pythonProject/.venv/lib/python3.9/site-packages (from nltk) (1.4.2)\n",
      "Requirement already satisfied: regex>=2021.8.3 in /Users/olgamordachova/PycharmProjects/pythonProject/.venv/lib/python3.9/site-packages (from nltk) (2024.9.11)\n",
      "Requirement already satisfied: tqdm in /Users/olgamordachova/PycharmProjects/pythonProject/.venv/lib/python3.9/site-packages (from nltk) (4.66.6)\n"
     ]
    }
   ],
   "source": [
    "!pip install nltk"
   ]
  },
  {
   "cell_type": "code",
   "execution_count": 2,
   "metadata": {},
   "outputs": [
    {
     "name": "stderr",
     "output_type": "stream",
     "text": [
      "[nltk_data] Downloading package punkt to\n",
      "[nltk_data]     /Users/olgamordachova/nltk_data...\n",
      "[nltk_data]   Package punkt is already up-to-date!\n",
      "[nltk_data] Downloading package stopwords to\n",
      "[nltk_data]     /Users/olgamordachova/nltk_data...\n",
      "[nltk_data]   Package stopwords is already up-to-date!\n"
     ]
    },
    {
     "data": {
      "text/plain": [
       "True"
      ]
     },
     "execution_count": 2,
     "metadata": {},
     "output_type": "execute_result"
    }
   ],
   "source": [
    "import pandas as pd\n",
    "import matplotlib.pyplot as plt\n",
    "import seaborn as sns\n",
    "import warnings\n",
    "import nltk\n",
    "from nltk.corpus import stopwords\n",
    "from nltk.tokenize import word_tokenize\n",
    "from nltk.stem.snowball import SnowballStemmer\n",
    "from sklearn.feature_extraction.text import TfidfVectorizer\n",
    "from sklearn.model_selection import train_test_split\n",
    "from sklearn.linear_model import LogisticRegression\n",
    "from sklearn.metrics import f1_score, roc_auc_score, log_loss\n",
    "nltk.download('punkt')\n",
    "nltk.download('stopwords')"
   ]
  },
  {
   "cell_type": "code",
   "execution_count": 3,
   "metadata": {},
   "outputs": [],
   "source": [
    "warnings.filterwarnings(\"ignore\", category=UserWarning)"
   ]
  },
  {
   "cell_type": "code",
   "execution_count": 4,
   "metadata": {},
   "outputs": [],
   "source": [
    "df_train = pd.read_csv(\"data/quora_question_pairs_train.csv.zip\", index_col=False)"
   ]
  },
  {
   "cell_type": "code",
   "execution_count": 5,
   "metadata": {},
   "outputs": [
    {
     "data": {
      "text/html": [
       "<div>\n",
       "<style scoped>\n",
       "    .dataframe tbody tr th:only-of-type {\n",
       "        vertical-align: middle;\n",
       "    }\n",
       "\n",
       "    .dataframe tbody tr th {\n",
       "        vertical-align: top;\n",
       "    }\n",
       "\n",
       "    .dataframe thead th {\n",
       "        text-align: right;\n",
       "    }\n",
       "</style>\n",
       "<table border=\"1\" class=\"dataframe\">\n",
       "  <thead>\n",
       "    <tr style=\"text-align: right;\">\n",
       "      <th></th>\n",
       "      <th>id</th>\n",
       "      <th>qid1</th>\n",
       "      <th>qid2</th>\n",
       "      <th>question1</th>\n",
       "      <th>question2</th>\n",
       "      <th>is_duplicate</th>\n",
       "    </tr>\n",
       "  </thead>\n",
       "  <tbody>\n",
       "    <tr>\n",
       "      <th>0</th>\n",
       "      <td>332278</td>\n",
       "      <td>459256</td>\n",
       "      <td>459257</td>\n",
       "      <td>The Iliad and the Odyssey in the Greek culture?</td>\n",
       "      <td>How do I prove that the pairs of three indepen...</td>\n",
       "      <td>0</td>\n",
       "    </tr>\n",
       "    <tr>\n",
       "      <th>1</th>\n",
       "      <td>196656</td>\n",
       "      <td>297402</td>\n",
       "      <td>297403</td>\n",
       "      <td>What is practical management and what is strat...</td>\n",
       "      <td>What are the practical aspects of strategic ma...</td>\n",
       "      <td>0</td>\n",
       "    </tr>\n",
       "    <tr>\n",
       "      <th>2</th>\n",
       "      <td>113125</td>\n",
       "      <td>184949</td>\n",
       "      <td>184950</td>\n",
       "      <td>How useful is MakeUseOf Answers?</td>\n",
       "      <td>Is there any Q&amp;A site that is not Yahoo answer...</td>\n",
       "      <td>0</td>\n",
       "    </tr>\n",
       "    <tr>\n",
       "      <th>3</th>\n",
       "      <td>266232</td>\n",
       "      <td>101283</td>\n",
       "      <td>163744</td>\n",
       "      <td>Which is the best place to reside in India and...</td>\n",
       "      <td>Which ia the best place to visit in India?</td>\n",
       "      <td>0</td>\n",
       "    </tr>\n",
       "    <tr>\n",
       "      <th>4</th>\n",
       "      <td>122738</td>\n",
       "      <td>17811</td>\n",
       "      <td>27517</td>\n",
       "      <td>Why do so many people ask questions on Quora t...</td>\n",
       "      <td>Why don't many people posting questions on Quo...</td>\n",
       "      <td>1</td>\n",
       "    </tr>\n",
       "    <tr>\n",
       "      <th>...</th>\n",
       "      <td>...</td>\n",
       "      <td>...</td>\n",
       "      <td>...</td>\n",
       "      <td>...</td>\n",
       "      <td>...</td>\n",
       "      <td>...</td>\n",
       "    </tr>\n",
       "    <tr>\n",
       "      <th>323427</th>\n",
       "      <td>111701</td>\n",
       "      <td>182893</td>\n",
       "      <td>182894</td>\n",
       "      <td>What are the major stereotypes people have abo...</td>\n",
       "      <td>What are the major stereotypes people have abo...</td>\n",
       "      <td>0</td>\n",
       "    </tr>\n",
       "    <tr>\n",
       "      <th>323428</th>\n",
       "      <td>90934</td>\n",
       "      <td>152504</td>\n",
       "      <td>152505</td>\n",
       "      <td>What are some of the best and most creative pr...</td>\n",
       "      <td>Which is one of the worst and most insensible ...</td>\n",
       "      <td>0</td>\n",
       "    </tr>\n",
       "    <tr>\n",
       "      <th>323429</th>\n",
       "      <td>363857</td>\n",
       "      <td>493887</td>\n",
       "      <td>493888</td>\n",
       "      <td>Why is there a road named Aurangzeb in Delhi?</td>\n",
       "      <td>How do you justify naming a road after Aurangzeb?</td>\n",
       "      <td>0</td>\n",
       "    </tr>\n",
       "    <tr>\n",
       "      <th>323430</th>\n",
       "      <td>29409</td>\n",
       "      <td>54414</td>\n",
       "      <td>54415</td>\n",
       "      <td>What are the tips given to a teacher to satisf...</td>\n",
       "      <td>Can a high school teacher legally force studen...</td>\n",
       "      <td>0</td>\n",
       "    </tr>\n",
       "    <tr>\n",
       "      <th>323431</th>\n",
       "      <td>402019</td>\n",
       "      <td>535463</td>\n",
       "      <td>535464</td>\n",
       "      <td>Will Tiffany Trump's new Secret Service protec...</td>\n",
       "      <td>Why isn't polylactic acid being used more, in ...</td>\n",
       "      <td>0</td>\n",
       "    </tr>\n",
       "  </tbody>\n",
       "</table>\n",
       "<p>323432 rows × 6 columns</p>\n",
       "</div>"
      ],
      "text/plain": [
       "            id    qid1    qid2  \\\n",
       "0       332278  459256  459257   \n",
       "1       196656  297402  297403   \n",
       "2       113125  184949  184950   \n",
       "3       266232  101283  163744   \n",
       "4       122738   17811   27517   \n",
       "...        ...     ...     ...   \n",
       "323427  111701  182893  182894   \n",
       "323428   90934  152504  152505   \n",
       "323429  363857  493887  493888   \n",
       "323430   29409   54414   54415   \n",
       "323431  402019  535463  535464   \n",
       "\n",
       "                                                question1  \\\n",
       "0         The Iliad and the Odyssey in the Greek culture?   \n",
       "1       What is practical management and what is strat...   \n",
       "2                        How useful is MakeUseOf Answers?   \n",
       "3       Which is the best place to reside in India and...   \n",
       "4       Why do so many people ask questions on Quora t...   \n",
       "...                                                   ...   \n",
       "323427  What are the major stereotypes people have abo...   \n",
       "323428  What are some of the best and most creative pr...   \n",
       "323429      Why is there a road named Aurangzeb in Delhi?   \n",
       "323430  What are the tips given to a teacher to satisf...   \n",
       "323431  Will Tiffany Trump's new Secret Service protec...   \n",
       "\n",
       "                                                question2  is_duplicate  \n",
       "0       How do I prove that the pairs of three indepen...             0  \n",
       "1       What are the practical aspects of strategic ma...             0  \n",
       "2       Is there any Q&A site that is not Yahoo answer...             0  \n",
       "3              Which ia the best place to visit in India?             0  \n",
       "4       Why don't many people posting questions on Quo...             1  \n",
       "...                                                   ...           ...  \n",
       "323427  What are the major stereotypes people have abo...             0  \n",
       "323428  Which is one of the worst and most insensible ...             0  \n",
       "323429  How do you justify naming a road after Aurangzeb?             0  \n",
       "323430  Can a high school teacher legally force studen...             0  \n",
       "323431  Why isn't polylactic acid being used more, in ...             0  \n",
       "\n",
       "[323432 rows x 6 columns]"
      ]
     },
     "execution_count": 5,
     "metadata": {},
     "output_type": "execute_result"
    }
   ],
   "source": [
    "df_train"
   ]
  },
  {
   "cell_type": "markdown",
   "metadata": {},
   "source": [
    "### ETA"
   ]
  },
  {
   "cell_type": "code",
   "execution_count": 6,
   "metadata": {},
   "outputs": [
    {
     "data": {
      "text/plain": [
       "'Why do so many people ask questions on Quora that can be easily answered by any number of legitimate sources on the Web? Have they not heard of Google or Bing?'"
      ]
     },
     "metadata": {},
     "output_type": "display_data"
    },
    {
     "data": {
      "text/plain": [
       "\"Why don't many people posting questions on Quora check Google first?\""
      ]
     },
     "metadata": {},
     "output_type": "display_data"
    },
    {
     "data": {
      "text/plain": [
       "1"
      ]
     },
     "metadata": {},
     "output_type": "display_data"
    }
   ],
   "source": [
    "display(df_train.loc[4]['question1'])\n",
    "display(df_train.loc[4]['question2'])\n",
    "display(df_train.loc[4]['is_duplicate'])"
   ]
  },
  {
   "cell_type": "markdown",
   "metadata": {},
   "source": [
    "Questions are duplicates but formed in different way"
   ]
  },
  {
   "cell_type": "code",
   "execution_count": 7,
   "metadata": {},
   "outputs": [
    {
     "data": {
      "text/plain": [
       "'What are the major stereotypes people have about Myanmar and to what extent are they true?'"
      ]
     },
     "metadata": {},
     "output_type": "display_data"
    },
    {
     "data": {
      "text/plain": [
       "'What are the major stereotypes people have about Jordan and to what extent are they true?'"
      ]
     },
     "metadata": {},
     "output_type": "display_data"
    },
    {
     "data": {
      "text/plain": [
       "0"
      ]
     },
     "metadata": {},
     "output_type": "display_data"
    }
   ],
   "source": [
    "display(df_train.loc[323427]['question1'])\n",
    "display(df_train.loc[323427]['question2'])\n",
    "display(df_train.loc[323427]['is_duplicate'])"
   ]
  },
  {
   "cell_type": "markdown",
   "metadata": {},
   "source": [
    "Questions are formed in very similar way, but they definitely are not duplicates"
   ]
  },
  {
   "cell_type": "code",
   "execution_count": 8,
   "metadata": {},
   "outputs": [
    {
     "name": "stdout",
     "output_type": "stream",
     "text": [
      "<class 'pandas.core.frame.DataFrame'>\n",
      "RangeIndex: 323432 entries, 0 to 323431\n",
      "Data columns (total 6 columns):\n",
      " #   Column        Non-Null Count   Dtype \n",
      "---  ------        --------------   ----- \n",
      " 0   id            323432 non-null  int64 \n",
      " 1   qid1          323432 non-null  int64 \n",
      " 2   qid2          323432 non-null  int64 \n",
      " 3   question1     323431 non-null  object\n",
      " 4   question2     323430 non-null  object\n",
      " 5   is_duplicate  323432 non-null  int64 \n",
      "dtypes: int64(4), object(2)\n",
      "memory usage: 14.8+ MB\n"
     ]
    }
   ],
   "source": [
    "df_train.info()"
   ]
  },
  {
   "cell_type": "code",
   "execution_count": 9,
   "metadata": {},
   "outputs": [
    {
     "data": {
      "text/plain": [
       "id              0\n",
       "qid1            0\n",
       "qid2            0\n",
       "question1       1\n",
       "question2       2\n",
       "is_duplicate    0\n",
       "dtype: int64"
      ]
     },
     "execution_count": 9,
     "metadata": {},
     "output_type": "execute_result"
    }
   ],
   "source": [
    "df_train.isna().sum()"
   ]
  },
  {
   "cell_type": "code",
   "execution_count": 10,
   "metadata": {},
   "outputs": [],
   "source": [
    "df_train = df_train.dropna()"
   ]
  },
  {
   "cell_type": "code",
   "execution_count": 11,
   "metadata": {},
   "outputs": [
    {
     "name": "stdout",
     "output_type": "stream",
     "text": [
      "<class 'pandas.core.frame.DataFrame'>\n",
      "Index: 323429 entries, 0 to 323431\n",
      "Data columns (total 6 columns):\n",
      " #   Column        Non-Null Count   Dtype \n",
      "---  ------        --------------   ----- \n",
      " 0   id            323429 non-null  int64 \n",
      " 1   qid1          323429 non-null  int64 \n",
      " 2   qid2          323429 non-null  int64 \n",
      " 3   question1     323429 non-null  object\n",
      " 4   question2     323429 non-null  object\n",
      " 5   is_duplicate  323429 non-null  int64 \n",
      "dtypes: int64(4), object(2)\n",
      "memory usage: 17.3+ MB\n"
     ]
    }
   ],
   "source": [
    "df_train.info()"
   ]
  },
  {
   "cell_type": "markdown",
   "metadata": {},
   "source": [
    "Lets check target column balance"
   ]
  },
  {
   "cell_type": "code",
   "execution_count": 12,
   "metadata": {},
   "outputs": [
    {
     "data": {
      "text/plain": [
       "is_duplicate\n",
       "0    204019\n",
       "1    119410\n",
       "Name: count, dtype: int64"
      ]
     },
     "execution_count": 12,
     "metadata": {},
     "output_type": "execute_result"
    }
   ],
   "source": [
    "df_train.is_duplicate.value_counts()"
   ]
  },
  {
   "cell_type": "markdown",
   "metadata": {},
   "source": [
    "There are twice as many non-duplicate questions as duplicates."
   ]
  },
  {
   "cell_type": "code",
   "execution_count": 13,
   "metadata": {},
   "outputs": [
    {
     "name": "stderr",
     "output_type": "stream",
     "text": [
      "/var/folders/2z/b500qw6s6cx6j167ynb3767c0000gn/T/ipykernel_11566/989049006.py:1: SettingWithCopyWarning: \n",
      "A value is trying to be set on a copy of a slice from a DataFrame.\n",
      "Try using .loc[row_indexer,col_indexer] = value instead\n",
      "\n",
      "See the caveats in the documentation: https://pandas.pydata.org/pandas-docs/stable/user_guide/indexing.html#returning-a-view-versus-a-copy\n",
      "  df_train['question1_len'] = df_train.question1.str.len().astype(int)\n",
      "/var/folders/2z/b500qw6s6cx6j167ynb3767c0000gn/T/ipykernel_11566/989049006.py:2: SettingWithCopyWarning: \n",
      "A value is trying to be set on a copy of a slice from a DataFrame.\n",
      "Try using .loc[row_indexer,col_indexer] = value instead\n",
      "\n",
      "See the caveats in the documentation: https://pandas.pydata.org/pandas-docs/stable/user_guide/indexing.html#returning-a-view-versus-a-copy\n",
      "  df_train['question2_len'] = df_train.question2.str.len().astype(int)\n"
     ]
    },
    {
     "data": {
      "text/html": [
       "<div>\n",
       "<style scoped>\n",
       "    .dataframe tbody tr th:only-of-type {\n",
       "        vertical-align: middle;\n",
       "    }\n",
       "\n",
       "    .dataframe tbody tr th {\n",
       "        vertical-align: top;\n",
       "    }\n",
       "\n",
       "    .dataframe thead th {\n",
       "        text-align: right;\n",
       "    }\n",
       "</style>\n",
       "<table border=\"1\" class=\"dataframe\">\n",
       "  <thead>\n",
       "    <tr style=\"text-align: right;\">\n",
       "      <th></th>\n",
       "      <th>id</th>\n",
       "      <th>qid1</th>\n",
       "      <th>qid2</th>\n",
       "      <th>question1</th>\n",
       "      <th>question2</th>\n",
       "      <th>is_duplicate</th>\n",
       "      <th>question1_len</th>\n",
       "      <th>question2_len</th>\n",
       "    </tr>\n",
       "  </thead>\n",
       "  <tbody>\n",
       "    <tr>\n",
       "      <th>0</th>\n",
       "      <td>332278</td>\n",
       "      <td>459256</td>\n",
       "      <td>459257</td>\n",
       "      <td>The Iliad and the Odyssey in the Greek culture?</td>\n",
       "      <td>How do I prove that the pairs of three indepen...</td>\n",
       "      <td>0</td>\n",
       "      <td>47</td>\n",
       "      <td>81</td>\n",
       "    </tr>\n",
       "    <tr>\n",
       "      <th>1</th>\n",
       "      <td>196656</td>\n",
       "      <td>297402</td>\n",
       "      <td>297403</td>\n",
       "      <td>What is practical management and what is strat...</td>\n",
       "      <td>What are the practical aspects of strategic ma...</td>\n",
       "      <td>0</td>\n",
       "      <td>62</td>\n",
       "      <td>55</td>\n",
       "    </tr>\n",
       "    <tr>\n",
       "      <th>2</th>\n",
       "      <td>113125</td>\n",
       "      <td>184949</td>\n",
       "      <td>184950</td>\n",
       "      <td>How useful is MakeUseOf Answers?</td>\n",
       "      <td>Is there any Q&amp;A site that is not Yahoo answer...</td>\n",
       "      <td>0</td>\n",
       "      <td>32</td>\n",
       "      <td>78</td>\n",
       "    </tr>\n",
       "    <tr>\n",
       "      <th>3</th>\n",
       "      <td>266232</td>\n",
       "      <td>101283</td>\n",
       "      <td>163744</td>\n",
       "      <td>Which is the best place to reside in India and...</td>\n",
       "      <td>Which ia the best place to visit in India?</td>\n",
       "      <td>0</td>\n",
       "      <td>51</td>\n",
       "      <td>42</td>\n",
       "    </tr>\n",
       "    <tr>\n",
       "      <th>4</th>\n",
       "      <td>122738</td>\n",
       "      <td>17811</td>\n",
       "      <td>27517</td>\n",
       "      <td>Why do so many people ask questions on Quora t...</td>\n",
       "      <td>Why don't many people posting questions on Quo...</td>\n",
       "      <td>1</td>\n",
       "      <td>159</td>\n",
       "      <td>68</td>\n",
       "    </tr>\n",
       "  </tbody>\n",
       "</table>\n",
       "</div>"
      ],
      "text/plain": [
       "       id    qid1    qid2                                          question1  \\\n",
       "0  332278  459256  459257    The Iliad and the Odyssey in the Greek culture?   \n",
       "1  196656  297402  297403  What is practical management and what is strat...   \n",
       "2  113125  184949  184950                   How useful is MakeUseOf Answers?   \n",
       "3  266232  101283  163744  Which is the best place to reside in India and...   \n",
       "4  122738   17811   27517  Why do so many people ask questions on Quora t...   \n",
       "\n",
       "                                           question2  is_duplicate  \\\n",
       "0  How do I prove that the pairs of three indepen...             0   \n",
       "1  What are the practical aspects of strategic ma...             0   \n",
       "2  Is there any Q&A site that is not Yahoo answer...             0   \n",
       "3         Which ia the best place to visit in India?             0   \n",
       "4  Why don't many people posting questions on Quo...             1   \n",
       "\n",
       "   question1_len  question2_len  \n",
       "0             47             81  \n",
       "1             62             55  \n",
       "2             32             78  \n",
       "3             51             42  \n",
       "4            159             68  "
      ]
     },
     "execution_count": 13,
     "metadata": {},
     "output_type": "execute_result"
    }
   ],
   "source": [
    "df_train['question1_len'] = df_train.question1.str.len().astype(int)\n",
    "df_train['question2_len'] = df_train.question2.str.len().astype(int)\n",
    "df_train.head(5)"
   ]
  },
  {
   "cell_type": "code",
   "execution_count": 14,
   "metadata": {},
   "outputs": [
    {
     "data": {
      "image/png": "[encoded data removed]",
      "text/plain": [
       "<Figure size 1000x600 with 1 Axes>"
      ]
     },
     "metadata": {},
     "output_type": "display_data"
    }
   ],
   "source": [
    "df_melted = df_train.melt(id_vars=['is_duplicate'], value_vars=['question1_len', 'question2_len'],\n",
    "                    var_name='question', value_name='length')\n",
    "\n",
    "plt.figure(figsize=(10, 6))\n",
    "sns.boxplot(data=df_melted, x='is_duplicate', y='length', hue='question')\n",
    "plt.xticks([0, 1], ['Duplicates', 'Non-duplicates'])\n",
    "plt.xlabel(\"Category\")\n",
    "plt.ylabel(\"Question length\")\n",
    "plt.title(\"Boxplot wuestion lengths for duplicates and non-dupolicates\")\n",
    "plt.legend(title=\"Question\")\n",
    "plt.show()"
   ]
  },
  {
   "cell_type": "code",
   "execution_count": 15,
   "metadata": {},
   "outputs": [
    {
     "data": {
      "image/png": "[encoded data removed]",
      "text/plain": [
       "<Figure size 1200x600 with 1 Axes>"
      ]
     },
     "metadata": {},
     "output_type": "display_data"
    },
    {
     "data": {
      "image/png": "[encoded data removed]",
      "text/plain": [
       "<Figure size 1200x600 with 1 Axes>"
      ]
     },
     "metadata": {},
     "output_type": "display_data"
    }
   ],
   "source": [
    "duplicates = df_train[df_train['is_duplicate'] == 1] \n",
    "non_duplicates = df_train[df_train['is_duplicate'] == 0] \n",
    "\n",
    "\n",
    "plt.figure(figsize=(12, 6))\n",
    "sns.histplot(duplicates['question1_len'], color='blue', label='Duplicates', kde=True)\n",
    "sns.histplot(non_duplicates['question1_len'], color='red', label='Non-duplicates', kde=True)\n",
    "plt.title(\"Question 1 length\")\n",
    "plt.xlabel(\"Question 1\")\n",
    "plt.legend()\n",
    "plt.show()\n",
    "\n",
    "# Гістограми для довжини другого запитання\n",
    "plt.figure(figsize=(12, 6))\n",
    "sns.histplot(duplicates['question2_len'], color='blue', label='Duplicates', kde=True)\n",
    "sns.histplot(non_duplicates['question2_len'], color='red', label='Non-duplicates', kde=True)\n",
    "plt.title(\"Question 2 length\")\n",
    "plt.xlabel(\"Question 2\")\n",
    "plt.legend()\n",
    "plt.show()"
   ]
  },
  {
   "cell_type": "code",
   "execution_count": 16,
   "metadata": {},
   "outputs": [
    {
     "data": {
      "text/html": [
       "<div>\n",
       "<style scoped>\n",
       "    .dataframe tbody tr th:only-of-type {\n",
       "        vertical-align: middle;\n",
       "    }\n",
       "\n",
       "    .dataframe tbody tr th {\n",
       "        vertical-align: top;\n",
       "    }\n",
       "\n",
       "    .dataframe thead th {\n",
       "        text-align: right;\n",
       "    }\n",
       "</style>\n",
       "<table border=\"1\" class=\"dataframe\">\n",
       "  <thead>\n",
       "    <tr style=\"text-align: right;\">\n",
       "      <th></th>\n",
       "      <th>id</th>\n",
       "      <th>qid1</th>\n",
       "      <th>qid2</th>\n",
       "      <th>is_duplicate</th>\n",
       "      <th>question1_len</th>\n",
       "      <th>question2_len</th>\n",
       "    </tr>\n",
       "  </thead>\n",
       "  <tbody>\n",
       "    <tr>\n",
       "      <th>count</th>\n",
       "      <td>323429.00000</td>\n",
       "      <td>323429.000000</td>\n",
       "      <td>323429.000000</td>\n",
       "      <td>323429.000000</td>\n",
       "      <td>323429.000000</td>\n",
       "      <td>323429.000000</td>\n",
       "    </tr>\n",
       "    <tr>\n",
       "      <th>mean</th>\n",
       "      <td>202283.11097</td>\n",
       "      <td>217325.780641</td>\n",
       "      <td>221047.527930</td>\n",
       "      <td>0.369200</td>\n",
       "      <td>59.531761</td>\n",
       "      <td>60.123242</td>\n",
       "    </tr>\n",
       "    <tr>\n",
       "      <th>std</th>\n",
       "      <td>116680.10763</td>\n",
       "      <td>157709.020406</td>\n",
       "      <td>159882.915531</td>\n",
       "      <td>0.482589</td>\n",
       "      <td>29.921286</td>\n",
       "      <td>33.889595</td>\n",
       "    </tr>\n",
       "    <tr>\n",
       "      <th>min</th>\n",
       "      <td>0.00000</td>\n",
       "      <td>1.000000</td>\n",
       "      <td>2.000000</td>\n",
       "      <td>0.000000</td>\n",
       "      <td>1.000000</td>\n",
       "      <td>1.000000</td>\n",
       "    </tr>\n",
       "    <tr>\n",
       "      <th>25%</th>\n",
       "      <td>101318.00000</td>\n",
       "      <td>74614.000000</td>\n",
       "      <td>74858.000000</td>\n",
       "      <td>0.000000</td>\n",
       "      <td>39.000000</td>\n",
       "      <td>39.000000</td>\n",
       "    </tr>\n",
       "    <tr>\n",
       "      <th>50%</th>\n",
       "      <td>202269.00000</td>\n",
       "      <td>192394.000000</td>\n",
       "      <td>197273.000000</td>\n",
       "      <td>0.000000</td>\n",
       "      <td>52.000000</td>\n",
       "      <td>51.000000</td>\n",
       "    </tr>\n",
       "    <tr>\n",
       "      <th>75%</th>\n",
       "      <td>303348.00000</td>\n",
       "      <td>346598.000000</td>\n",
       "      <td>354726.000000</td>\n",
       "      <td>1.000000</td>\n",
       "      <td>72.000000</td>\n",
       "      <td>72.000000</td>\n",
       "    </tr>\n",
       "    <tr>\n",
       "      <th>max</th>\n",
       "      <td>404289.00000</td>\n",
       "      <td>537932.000000</td>\n",
       "      <td>537933.000000</td>\n",
       "      <td>1.000000</td>\n",
       "      <td>623.000000</td>\n",
       "      <td>1169.000000</td>\n",
       "    </tr>\n",
       "  </tbody>\n",
       "</table>\n",
       "</div>"
      ],
      "text/plain": [
       "                 id           qid1           qid2   is_duplicate  \\\n",
       "count  323429.00000  323429.000000  323429.000000  323429.000000   \n",
       "mean   202283.11097  217325.780641  221047.527930       0.369200   \n",
       "std    116680.10763  157709.020406  159882.915531       0.482589   \n",
       "min         0.00000       1.000000       2.000000       0.000000   \n",
       "25%    101318.00000   74614.000000   74858.000000       0.000000   \n",
       "50%    202269.00000  192394.000000  197273.000000       0.000000   \n",
       "75%    303348.00000  346598.000000  354726.000000       1.000000   \n",
       "max    404289.00000  537932.000000  537933.000000       1.000000   \n",
       "\n",
       "       question1_len  question2_len  \n",
       "count  323429.000000  323429.000000  \n",
       "mean       59.531761      60.123242  \n",
       "std        29.921286      33.889595  \n",
       "min         1.000000       1.000000  \n",
       "25%        39.000000      39.000000  \n",
       "50%        52.000000      51.000000  \n",
       "75%        72.000000      72.000000  \n",
       "max       623.000000    1169.000000  "
      ]
     },
     "execution_count": 16,
     "metadata": {},
     "output_type": "execute_result"
    }
   ],
   "source": [
    "df_train.describe()"
   ]
  },
  {
   "cell_type": "markdown",
   "metadata": {},
   "source": [
    "Duplicates mostly have shorted length"
   ]
  },
  {
   "cell_type": "markdown",
   "metadata": {},
   "source": [
    "Lets cut outliers for visualization purposes"
   ]
  },
  {
   "cell_type": "code",
   "execution_count": 17,
   "metadata": {},
   "outputs": [
    {
     "data": {
      "image/png": "[encoded data removed]",
      "text/plain": [
       "<Figure size 1200x600 with 1 Axes>"
      ]
     },
     "metadata": {},
     "output_type": "display_data"
    },
    {
     "data": {
      "image/png": "[encoded data removed]",
      "text/plain": [
       "<Figure size 1200x600 with 1 Axes>"
      ]
     },
     "metadata": {},
     "output_type": "display_data"
    }
   ],
   "source": [
    "\n",
    "df_filtered = df_train[df_train['question1_len']<200]\n",
    "df_filtered = df_filtered[df_train['question2_len']<200]\n",
    "duplicates = df_filtered[df_filtered['is_duplicate'] == 1] \n",
    "non_duplicates = df_filtered[df_filtered['is_duplicate'] == 0] \n",
    "\n",
    "# Histogram for first question length\n",
    "plt.figure(figsize=(12, 6))\n",
    "sns.histplot(duplicates['question1_len'], color='blue', label='Duplicates', kde=True)\n",
    "sns.histplot(non_duplicates['question1_len'], color='red', label='Non-duplicates', kde=True)\n",
    "plt.title(\"Question 1 length\")\n",
    "plt.xlabel(\"Question 1\")\n",
    "plt.legend()\n",
    "plt.show()\n",
    "\n",
    "# Histogram for second question length\n",
    "plt.figure(figsize=(12, 6))\n",
    "sns.histplot(duplicates['question2_len'], color='blue', label='Duplicates', kde=True)\n",
    "sns.histplot(non_duplicates['question2_len'], color='red', label='Non-duplicates', kde=True)\n",
    "plt.title(\"Question 2 length\")\n",
    "plt.xlabel(\"Question 2\")\n",
    "plt.legend()\n",
    "plt.show()"
   ]
  },
  {
   "cell_type": "code",
   "execution_count": 18,
   "metadata": {},
   "outputs": [],
   "source": [
    "english_stopwords = stopwords.words('english')\n",
    "stemmer = SnowballStemmer(language='english')\n",
    "def remove_stopwords(text):\n",
    "    words = word_tokenize(text)\n",
    "    filtered_words = [word for word in words if word.lower() not in english_stopwords]\n",
    "    return ' '.join(filtered_words)\n",
    "\n",
    "def stem_tokenize(text):\n",
    "    return [stemmer.stem(word) for word in word_tokenize(text)]\n",
    "\n"
   ]
  },
  {
   "cell_type": "code",
   "execution_count": 19,
   "metadata": {},
   "outputs": [
    {
     "name": "stderr",
     "output_type": "stream",
     "text": [
      "/var/folders/2z/b500qw6s6cx6j167ynb3767c0000gn/T/ipykernel_11566/898982274.py:1: SettingWithCopyWarning: \n",
      "A value is trying to be set on a copy of a slice from a DataFrame.\n",
      "Try using .loc[row_indexer,col_indexer] = value instead\n",
      "\n",
      "See the caveats in the documentation: https://pandas.pydata.org/pandas-docs/stable/user_guide/indexing.html#returning-a-view-versus-a-copy\n",
      "  df_train['question1_tokenized'] = df_train['question1'].apply(remove_stopwords)\n",
      "/var/folders/2z/b500qw6s6cx6j167ynb3767c0000gn/T/ipykernel_11566/898982274.py:2: SettingWithCopyWarning: \n",
      "A value is trying to be set on a copy of a slice from a DataFrame.\n",
      "Try using .loc[row_indexer,col_indexer] = value instead\n",
      "\n",
      "See the caveats in the documentation: https://pandas.pydata.org/pandas-docs/stable/user_guide/indexing.html#returning-a-view-versus-a-copy\n",
      "  df_train['question1_stemed_tokenized'] = df_train['question1_tokenized'].apply(stem_tokenize)\n",
      "/var/folders/2z/b500qw6s6cx6j167ynb3767c0000gn/T/ipykernel_11566/898982274.py:3: SettingWithCopyWarning: \n",
      "A value is trying to be set on a copy of a slice from a DataFrame.\n",
      "Try using .loc[row_indexer,col_indexer] = value instead\n",
      "\n",
      "See the caveats in the documentation: https://pandas.pydata.org/pandas-docs/stable/user_guide/indexing.html#returning-a-view-versus-a-copy\n",
      "  df_train['question2_tokenized'] = df_train['question2'].apply(remove_stopwords)\n",
      "/var/folders/2z/b500qw6s6cx6j167ynb3767c0000gn/T/ipykernel_11566/898982274.py:4: SettingWithCopyWarning: \n",
      "A value is trying to be set on a copy of a slice from a DataFrame.\n",
      "Try using .loc[row_indexer,col_indexer] = value instead\n",
      "\n",
      "See the caveats in the documentation: https://pandas.pydata.org/pandas-docs/stable/user_guide/indexing.html#returning-a-view-versus-a-copy\n",
      "  df_train['question2_stemed_tokenized'] = df_train['question2_tokenized'].apply(stem_tokenize)\n"
     ]
    }
   ],
   "source": [
    "df_train['question1_tokenized'] = df_train['question1'].apply(remove_stopwords)\n",
    "df_train['question1_stemed_tokenized'] = df_train['question1_tokenized'].apply(stem_tokenize)\n",
    "df_train['question2_tokenized'] = df_train['question2'].apply(remove_stopwords)\n",
    "df_train['question2_stemed_tokenized'] = df_train['question2_tokenized'].apply(stem_tokenize)"
   ]
  },
  {
   "cell_type": "code",
   "execution_count": 20,
   "metadata": {},
   "outputs": [
    {
     "data": {
      "text/html": [
       "<div>\n",
       "<style scoped>\n",
       "    .dataframe tbody tr th:only-of-type {\n",
       "        vertical-align: middle;\n",
       "    }\n",
       "\n",
       "    .dataframe tbody tr th {\n",
       "        vertical-align: top;\n",
       "    }\n",
       "\n",
       "    .dataframe thead th {\n",
       "        text-align: right;\n",
       "    }\n",
       "</style>\n",
       "<table border=\"1\" class=\"dataframe\">\n",
       "  <thead>\n",
       "    <tr style=\"text-align: right;\">\n",
       "      <th></th>\n",
       "      <th>id</th>\n",
       "      <th>qid1</th>\n",
       "      <th>qid2</th>\n",
       "      <th>question1</th>\n",
       "      <th>question2</th>\n",
       "      <th>is_duplicate</th>\n",
       "      <th>question1_len</th>\n",
       "      <th>question2_len</th>\n",
       "      <th>question1_tokenized</th>\n",
       "      <th>question1_stemed_tokenized</th>\n",
       "      <th>question2_tokenized</th>\n",
       "      <th>question2_stemed_tokenized</th>\n",
       "    </tr>\n",
       "  </thead>\n",
       "  <tbody>\n",
       "    <tr>\n",
       "      <th>0</th>\n",
       "      <td>332278</td>\n",
       "      <td>459256</td>\n",
       "      <td>459257</td>\n",
       "      <td>The Iliad and the Odyssey in the Greek culture?</td>\n",
       "      <td>How do I prove that the pairs of three indepen...</td>\n",
       "      <td>0</td>\n",
       "      <td>47</td>\n",
       "      <td>81</td>\n",
       "      <td>Iliad Odyssey Greek culture ?</td>\n",
       "      <td>[iliad, odyssey, greek, cultur, ?]</td>\n",
       "      <td>prove pairs three independent variables also i...</td>\n",
       "      <td>[prove, pair, three, independ, variabl, also, ...</td>\n",
       "    </tr>\n",
       "    <tr>\n",
       "      <th>1</th>\n",
       "      <td>196656</td>\n",
       "      <td>297402</td>\n",
       "      <td>297403</td>\n",
       "      <td>What is practical management and what is strat...</td>\n",
       "      <td>What are the practical aspects of strategic ma...</td>\n",
       "      <td>0</td>\n",
       "      <td>62</td>\n",
       "      <td>55</td>\n",
       "      <td>practical management strategic management ?</td>\n",
       "      <td>[practic, manag, strateg, manag, ?]</td>\n",
       "      <td>practical aspects strategic management ?</td>\n",
       "      <td>[practic, aspect, strateg, manag, ?]</td>\n",
       "    </tr>\n",
       "    <tr>\n",
       "      <th>2</th>\n",
       "      <td>113125</td>\n",
       "      <td>184949</td>\n",
       "      <td>184950</td>\n",
       "      <td>How useful is MakeUseOf Answers?</td>\n",
       "      <td>Is there any Q&amp;A site that is not Yahoo answer...</td>\n",
       "      <td>0</td>\n",
       "      <td>32</td>\n",
       "      <td>78</td>\n",
       "      <td>useful MakeUseOf Answers ?</td>\n",
       "      <td>[use, makeuseof, answer, ?]</td>\n",
       "      <td>Q &amp; site Yahoo answers , hate speech allowed ?</td>\n",
       "      <td>[q, &amp;, site, yahoo, answer, ,, hate, speech, a...</td>\n",
       "    </tr>\n",
       "    <tr>\n",
       "      <th>3</th>\n",
       "      <td>266232</td>\n",
       "      <td>101283</td>\n",
       "      <td>163744</td>\n",
       "      <td>Which is the best place to reside in India and...</td>\n",
       "      <td>Which ia the best place to visit in India?</td>\n",
       "      <td>0</td>\n",
       "      <td>51</td>\n",
       "      <td>42</td>\n",
       "      <td>best place reside India ?</td>\n",
       "      <td>[best, place, resid, india, ?]</td>\n",
       "      <td>ia best place visit India ?</td>\n",
       "      <td>[ia, best, place, visit, india, ?]</td>\n",
       "    </tr>\n",
       "    <tr>\n",
       "      <th>4</th>\n",
       "      <td>122738</td>\n",
       "      <td>17811</td>\n",
       "      <td>27517</td>\n",
       "      <td>Why do so many people ask questions on Quora t...</td>\n",
       "      <td>Why don't many people posting questions on Quo...</td>\n",
       "      <td>1</td>\n",
       "      <td>159</td>\n",
       "      <td>68</td>\n",
       "      <td>many people ask questions Quora easily answere...</td>\n",
       "      <td>[mani, peopl, ask, question, quora, easili, an...</td>\n",
       "      <td>n't many people posting questions Quora check ...</td>\n",
       "      <td>[n't, mani, peopl, post, question, quora, chec...</td>\n",
       "    </tr>\n",
       "    <tr>\n",
       "      <th>...</th>\n",
       "      <td>...</td>\n",
       "      <td>...</td>\n",
       "      <td>...</td>\n",
       "      <td>...</td>\n",
       "      <td>...</td>\n",
       "      <td>...</td>\n",
       "      <td>...</td>\n",
       "      <td>...</td>\n",
       "      <td>...</td>\n",
       "      <td>...</td>\n",
       "      <td>...</td>\n",
       "      <td>...</td>\n",
       "    </tr>\n",
       "    <tr>\n",
       "      <th>323427</th>\n",
       "      <td>111701</td>\n",
       "      <td>182893</td>\n",
       "      <td>182894</td>\n",
       "      <td>What are the major stereotypes people have abo...</td>\n",
       "      <td>What are the major stereotypes people have abo...</td>\n",
       "      <td>0</td>\n",
       "      <td>90</td>\n",
       "      <td>89</td>\n",
       "      <td>major stereotypes people Myanmar extent true ?</td>\n",
       "      <td>[major, stereotyp, peopl, myanmar, extent, tru...</td>\n",
       "      <td>major stereotypes people Jordan extent true ?</td>\n",
       "      <td>[major, stereotyp, peopl, jordan, extent, true...</td>\n",
       "    </tr>\n",
       "    <tr>\n",
       "      <th>323428</th>\n",
       "      <td>90934</td>\n",
       "      <td>152504</td>\n",
       "      <td>152505</td>\n",
       "      <td>What are some of the best and most creative pr...</td>\n",
       "      <td>Which is one of the worst and most insensible ...</td>\n",
       "      <td>0</td>\n",
       "      <td>84</td>\n",
       "      <td>86</td>\n",
       "      <td>best creative print advertisements ever seen ?</td>\n",
       "      <td>[best, creativ, print, advertis, ever, seen, ?]</td>\n",
       "      <td>one worst insensible advertisements ever seen ...</td>\n",
       "      <td>[one, worst, insens, advertis, ever, seen, tv, ?]</td>\n",
       "    </tr>\n",
       "    <tr>\n",
       "      <th>323429</th>\n",
       "      <td>363857</td>\n",
       "      <td>493887</td>\n",
       "      <td>493888</td>\n",
       "      <td>Why is there a road named Aurangzeb in Delhi?</td>\n",
       "      <td>How do you justify naming a road after Aurangzeb?</td>\n",
       "      <td>0</td>\n",
       "      <td>45</td>\n",
       "      <td>49</td>\n",
       "      <td>road named Aurangzeb Delhi ?</td>\n",
       "      <td>[road, name, aurangzeb, delhi, ?]</td>\n",
       "      <td>justify naming road Aurangzeb ?</td>\n",
       "      <td>[justifi, name, road, aurangzeb, ?]</td>\n",
       "    </tr>\n",
       "    <tr>\n",
       "      <th>323430</th>\n",
       "      <td>29409</td>\n",
       "      <td>54414</td>\n",
       "      <td>54415</td>\n",
       "      <td>What are the tips given to a teacher to satisf...</td>\n",
       "      <td>Can a high school teacher legally force studen...</td>\n",
       "      <td>0</td>\n",
       "      <td>76</td>\n",
       "      <td>90</td>\n",
       "      <td>tips given teacher satisfy students class ?</td>\n",
       "      <td>[tip, given, teacher, satisfi, student, class, ?]</td>\n",
       "      <td>high school teacher legally force students sta...</td>\n",
       "      <td>[high, school, teacher, legal, forc, student, ...</td>\n",
       "    </tr>\n",
       "    <tr>\n",
       "      <th>323431</th>\n",
       "      <td>402019</td>\n",
       "      <td>535463</td>\n",
       "      <td>535464</td>\n",
       "      <td>Will Tiffany Trump's new Secret Service protec...</td>\n",
       "      <td>Why isn't polylactic acid being used more, in ...</td>\n",
       "      <td>0</td>\n",
       "      <td>130</td>\n",
       "      <td>83</td>\n",
       "      <td>Tiffany Trump 's new Secret Service protection...</td>\n",
       "      <td>[tiffani, trump, 's, new, secret, servic, prot...</td>\n",
       "      <td>n't polylactic acid used , relation petroleum ...</td>\n",
       "      <td>[n't, polylact, acid, use, ,, relat, petroleum...</td>\n",
       "    </tr>\n",
       "  </tbody>\n",
       "</table>\n",
       "<p>323429 rows × 12 columns</p>\n",
       "</div>"
      ],
      "text/plain": [
       "            id    qid1    qid2  \\\n",
       "0       332278  459256  459257   \n",
       "1       196656  297402  297403   \n",
       "2       113125  184949  184950   \n",
       "3       266232  101283  163744   \n",
       "4       122738   17811   27517   \n",
       "...        ...     ...     ...   \n",
       "323427  111701  182893  182894   \n",
       "323428   90934  152504  152505   \n",
       "323429  363857  493887  493888   \n",
       "323430   29409   54414   54415   \n",
       "323431  402019  535463  535464   \n",
       "\n",
       "                                                question1  \\\n",
       "0         The Iliad and the Odyssey in the Greek culture?   \n",
       "1       What is practical management and what is strat...   \n",
       "2                        How useful is MakeUseOf Answers?   \n",
       "3       Which is the best place to reside in India and...   \n",
       "4       Why do so many people ask questions on Quora t...   \n",
       "...                                                   ...   \n",
       "323427  What are the major stereotypes people have abo...   \n",
       "323428  What are some of the best and most creative pr...   \n",
       "323429      Why is there a road named Aurangzeb in Delhi?   \n",
       "323430  What are the tips given to a teacher to satisf...   \n",
       "323431  Will Tiffany Trump's new Secret Service protec...   \n",
       "\n",
       "                                                question2  is_duplicate  \\\n",
       "0       How do I prove that the pairs of three indepen...             0   \n",
       "1       What are the practical aspects of strategic ma...             0   \n",
       "2       Is there any Q&A site that is not Yahoo answer...             0   \n",
       "3              Which ia the best place to visit in India?             0   \n",
       "4       Why don't many people posting questions on Quo...             1   \n",
       "...                                                   ...           ...   \n",
       "323427  What are the major stereotypes people have abo...             0   \n",
       "323428  Which is one of the worst and most insensible ...             0   \n",
       "323429  How do you justify naming a road after Aurangzeb?             0   \n",
       "323430  Can a high school teacher legally force studen...             0   \n",
       "323431  Why isn't polylactic acid being used more, in ...             0   \n",
       "\n",
       "        question1_len  question2_len  \\\n",
       "0                  47             81   \n",
       "1                  62             55   \n",
       "2                  32             78   \n",
       "3                  51             42   \n",
       "4                 159             68   \n",
       "...               ...            ...   \n",
       "323427             90             89   \n",
       "323428             84             86   \n",
       "323429             45             49   \n",
       "323430             76             90   \n",
       "323431            130             83   \n",
       "\n",
       "                                      question1_tokenized  \\\n",
       "0                           Iliad Odyssey Greek culture ?   \n",
       "1             practical management strategic management ?   \n",
       "2                              useful MakeUseOf Answers ?   \n",
       "3                               best place reside India ?   \n",
       "4       many people ask questions Quora easily answere...   \n",
       "...                                                   ...   \n",
       "323427     major stereotypes people Myanmar extent true ?   \n",
       "323428     best creative print advertisements ever seen ?   \n",
       "323429                       road named Aurangzeb Delhi ?   \n",
       "323430        tips given teacher satisfy students class ?   \n",
       "323431  Tiffany Trump 's new Secret Service protection...   \n",
       "\n",
       "                               question1_stemed_tokenized  \\\n",
       "0                      [iliad, odyssey, greek, cultur, ?]   \n",
       "1                     [practic, manag, strateg, manag, ?]   \n",
       "2                             [use, makeuseof, answer, ?]   \n",
       "3                          [best, place, resid, india, ?]   \n",
       "4       [mani, peopl, ask, question, quora, easili, an...   \n",
       "...                                                   ...   \n",
       "323427  [major, stereotyp, peopl, myanmar, extent, tru...   \n",
       "323428    [best, creativ, print, advertis, ever, seen, ?]   \n",
       "323429                  [road, name, aurangzeb, delhi, ?]   \n",
       "323430  [tip, given, teacher, satisfi, student, class, ?]   \n",
       "323431  [tiffani, trump, 's, new, secret, servic, prot...   \n",
       "\n",
       "                                      question2_tokenized  \\\n",
       "0       prove pairs three independent variables also i...   \n",
       "1                practical aspects strategic management ?   \n",
       "2          Q & site Yahoo answers , hate speech allowed ?   \n",
       "3                             ia best place visit India ?   \n",
       "4       n't many people posting questions Quora check ...   \n",
       "...                                                   ...   \n",
       "323427      major stereotypes people Jordan extent true ?   \n",
       "323428  one worst insensible advertisements ever seen ...   \n",
       "323429                    justify naming road Aurangzeb ?   \n",
       "323430  high school teacher legally force students sta...   \n",
       "323431  n't polylactic acid used , relation petroleum ...   \n",
       "\n",
       "                               question2_stemed_tokenized  \n",
       "0       [prove, pair, three, independ, variabl, also, ...  \n",
       "1                    [practic, aspect, strateg, manag, ?]  \n",
       "2       [q, &, site, yahoo, answer, ,, hate, speech, a...  \n",
       "3                      [ia, best, place, visit, india, ?]  \n",
       "4       [n't, mani, peopl, post, question, quora, chec...  \n",
       "...                                                   ...  \n",
       "323427  [major, stereotyp, peopl, jordan, extent, true...  \n",
       "323428  [one, worst, insens, advertis, ever, seen, tv, ?]  \n",
       "323429                [justifi, name, road, aurangzeb, ?]  \n",
       "323430  [high, school, teacher, legal, forc, student, ...  \n",
       "323431  [n't, polylact, acid, use, ,, relat, petroleum...  \n",
       "\n",
       "[323429 rows x 12 columns]"
      ]
     },
     "execution_count": 20,
     "metadata": {},
     "output_type": "execute_result"
    }
   ],
   "source": [
    "df_train"
   ]
  },
  {
   "cell_type": "markdown",
   "metadata": {},
   "source": [
    "Here we see that for example questions with id=196656 have almost same words in both questions but they are not duplicates, so words order has real impact"
   ]
  },
  {
   "cell_type": "code",
   "execution_count": 21,
   "metadata": {},
   "outputs": [
    {
     "name": "stderr",
     "output_type": "stream",
     "text": [
      "/var/folders/2z/b500qw6s6cx6j167ynb3767c0000gn/T/ipykernel_11566/287619809.py:1: SettingWithCopyWarning: \n",
      "A value is trying to be set on a copy of a slice from a DataFrame.\n",
      "Try using .loc[row_indexer,col_indexer] = value instead\n",
      "\n",
      "See the caveats in the documentation: https://pandas.pydata.org/pandas-docs/stable/user_guide/indexing.html#returning-a-view-versus-a-copy\n",
      "  df_train['common_words_count'] = df_train.apply(lambda row: len(set(row['question1_stemed_tokenized']).intersection(row['question2_stemed_tokenized'])), axis=1)\n"
     ]
    }
   ],
   "source": [
    "df_train['common_words_count'] = df_train.apply(lambda row: len(set(row['question1_stemed_tokenized']).intersection(row['question2_stemed_tokenized'])), axis=1)\n"
   ]
  },
  {
   "cell_type": "code",
   "execution_count": 22,
   "metadata": {},
   "outputs": [
    {
     "data": {
      "text/html": [
       "<div>\n",
       "<style scoped>\n",
       "    .dataframe tbody tr th:only-of-type {\n",
       "        vertical-align: middle;\n",
       "    }\n",
       "\n",
       "    .dataframe tbody tr th {\n",
       "        vertical-align: top;\n",
       "    }\n",
       "\n",
       "    .dataframe thead th {\n",
       "        text-align: right;\n",
       "    }\n",
       "</style>\n",
       "<table border=\"1\" class=\"dataframe\">\n",
       "  <thead>\n",
       "    <tr style=\"text-align: right;\">\n",
       "      <th></th>\n",
       "      <th>id</th>\n",
       "      <th>qid1</th>\n",
       "      <th>qid2</th>\n",
       "      <th>question1</th>\n",
       "      <th>question2</th>\n",
       "      <th>is_duplicate</th>\n",
       "      <th>question1_len</th>\n",
       "      <th>question2_len</th>\n",
       "      <th>question1_tokenized</th>\n",
       "      <th>question1_stemed_tokenized</th>\n",
       "      <th>question2_tokenized</th>\n",
       "      <th>question2_stemed_tokenized</th>\n",
       "      <th>common_words_count</th>\n",
       "    </tr>\n",
       "  </thead>\n",
       "  <tbody>\n",
       "    <tr>\n",
       "      <th>0</th>\n",
       "      <td>332278</td>\n",
       "      <td>459256</td>\n",
       "      <td>459257</td>\n",
       "      <td>The Iliad and the Odyssey in the Greek culture?</td>\n",
       "      <td>How do I prove that the pairs of three indepen...</td>\n",
       "      <td>0</td>\n",
       "      <td>47</td>\n",
       "      <td>81</td>\n",
       "      <td>Iliad Odyssey Greek culture ?</td>\n",
       "      <td>[iliad, odyssey, greek, cultur, ?]</td>\n",
       "      <td>prove pairs three independent variables also i...</td>\n",
       "      <td>[prove, pair, three, independ, variabl, also, ...</td>\n",
       "      <td>1</td>\n",
       "    </tr>\n",
       "    <tr>\n",
       "      <th>1</th>\n",
       "      <td>196656</td>\n",
       "      <td>297402</td>\n",
       "      <td>297403</td>\n",
       "      <td>What is practical management and what is strat...</td>\n",
       "      <td>What are the practical aspects of strategic ma...</td>\n",
       "      <td>0</td>\n",
       "      <td>62</td>\n",
       "      <td>55</td>\n",
       "      <td>practical management strategic management ?</td>\n",
       "      <td>[practic, manag, strateg, manag, ?]</td>\n",
       "      <td>practical aspects strategic management ?</td>\n",
       "      <td>[practic, aspect, strateg, manag, ?]</td>\n",
       "      <td>4</td>\n",
       "    </tr>\n",
       "    <tr>\n",
       "      <th>2</th>\n",
       "      <td>113125</td>\n",
       "      <td>184949</td>\n",
       "      <td>184950</td>\n",
       "      <td>How useful is MakeUseOf Answers?</td>\n",
       "      <td>Is there any Q&amp;A site that is not Yahoo answer...</td>\n",
       "      <td>0</td>\n",
       "      <td>32</td>\n",
       "      <td>78</td>\n",
       "      <td>useful MakeUseOf Answers ?</td>\n",
       "      <td>[use, makeuseof, answer, ?]</td>\n",
       "      <td>Q &amp; site Yahoo answers , hate speech allowed ?</td>\n",
       "      <td>[q, &amp;, site, yahoo, answer, ,, hate, speech, a...</td>\n",
       "      <td>2</td>\n",
       "    </tr>\n",
       "    <tr>\n",
       "      <th>3</th>\n",
       "      <td>266232</td>\n",
       "      <td>101283</td>\n",
       "      <td>163744</td>\n",
       "      <td>Which is the best place to reside in India and...</td>\n",
       "      <td>Which ia the best place to visit in India?</td>\n",
       "      <td>0</td>\n",
       "      <td>51</td>\n",
       "      <td>42</td>\n",
       "      <td>best place reside India ?</td>\n",
       "      <td>[best, place, resid, india, ?]</td>\n",
       "      <td>ia best place visit India ?</td>\n",
       "      <td>[ia, best, place, visit, india, ?]</td>\n",
       "      <td>4</td>\n",
       "    </tr>\n",
       "    <tr>\n",
       "      <th>4</th>\n",
       "      <td>122738</td>\n",
       "      <td>17811</td>\n",
       "      <td>27517</td>\n",
       "      <td>Why do so many people ask questions on Quora t...</td>\n",
       "      <td>Why don't many people posting questions on Quo...</td>\n",
       "      <td>1</td>\n",
       "      <td>159</td>\n",
       "      <td>68</td>\n",
       "      <td>many people ask questions Quora easily answere...</td>\n",
       "      <td>[mani, peopl, ask, question, quora, easili, an...</td>\n",
       "      <td>n't many people posting questions Quora check ...</td>\n",
       "      <td>[n't, mani, peopl, post, question, quora, chec...</td>\n",
       "      <td>6</td>\n",
       "    </tr>\n",
       "    <tr>\n",
       "      <th>...</th>\n",
       "      <td>...</td>\n",
       "      <td>...</td>\n",
       "      <td>...</td>\n",
       "      <td>...</td>\n",
       "      <td>...</td>\n",
       "      <td>...</td>\n",
       "      <td>...</td>\n",
       "      <td>...</td>\n",
       "      <td>...</td>\n",
       "      <td>...</td>\n",
       "      <td>...</td>\n",
       "      <td>...</td>\n",
       "      <td>...</td>\n",
       "    </tr>\n",
       "    <tr>\n",
       "      <th>323427</th>\n",
       "      <td>111701</td>\n",
       "      <td>182893</td>\n",
       "      <td>182894</td>\n",
       "      <td>What are the major stereotypes people have abo...</td>\n",
       "      <td>What are the major stereotypes people have abo...</td>\n",
       "      <td>0</td>\n",
       "      <td>90</td>\n",
       "      <td>89</td>\n",
       "      <td>major stereotypes people Myanmar extent true ?</td>\n",
       "      <td>[major, stereotyp, peopl, myanmar, extent, tru...</td>\n",
       "      <td>major stereotypes people Jordan extent true ?</td>\n",
       "      <td>[major, stereotyp, peopl, jordan, extent, true...</td>\n",
       "      <td>6</td>\n",
       "    </tr>\n",
       "    <tr>\n",
       "      <th>323428</th>\n",
       "      <td>90934</td>\n",
       "      <td>152504</td>\n",
       "      <td>152505</td>\n",
       "      <td>What are some of the best and most creative pr...</td>\n",
       "      <td>Which is one of the worst and most insensible ...</td>\n",
       "      <td>0</td>\n",
       "      <td>84</td>\n",
       "      <td>86</td>\n",
       "      <td>best creative print advertisements ever seen ?</td>\n",
       "      <td>[best, creativ, print, advertis, ever, seen, ?]</td>\n",
       "      <td>one worst insensible advertisements ever seen ...</td>\n",
       "      <td>[one, worst, insens, advertis, ever, seen, tv, ?]</td>\n",
       "      <td>4</td>\n",
       "    </tr>\n",
       "    <tr>\n",
       "      <th>323429</th>\n",
       "      <td>363857</td>\n",
       "      <td>493887</td>\n",
       "      <td>493888</td>\n",
       "      <td>Why is there a road named Aurangzeb in Delhi?</td>\n",
       "      <td>How do you justify naming a road after Aurangzeb?</td>\n",
       "      <td>0</td>\n",
       "      <td>45</td>\n",
       "      <td>49</td>\n",
       "      <td>road named Aurangzeb Delhi ?</td>\n",
       "      <td>[road, name, aurangzeb, delhi, ?]</td>\n",
       "      <td>justify naming road Aurangzeb ?</td>\n",
       "      <td>[justifi, name, road, aurangzeb, ?]</td>\n",
       "      <td>4</td>\n",
       "    </tr>\n",
       "    <tr>\n",
       "      <th>323430</th>\n",
       "      <td>29409</td>\n",
       "      <td>54414</td>\n",
       "      <td>54415</td>\n",
       "      <td>What are the tips given to a teacher to satisf...</td>\n",
       "      <td>Can a high school teacher legally force studen...</td>\n",
       "      <td>0</td>\n",
       "      <td>76</td>\n",
       "      <td>90</td>\n",
       "      <td>tips given teacher satisfy students class ?</td>\n",
       "      <td>[tip, given, teacher, satisfi, student, class, ?]</td>\n",
       "      <td>high school teacher legally force students sta...</td>\n",
       "      <td>[high, school, teacher, legal, forc, student, ...</td>\n",
       "      <td>4</td>\n",
       "    </tr>\n",
       "    <tr>\n",
       "      <th>323431</th>\n",
       "      <td>402019</td>\n",
       "      <td>535463</td>\n",
       "      <td>535464</td>\n",
       "      <td>Will Tiffany Trump's new Secret Service protec...</td>\n",
       "      <td>Why isn't polylactic acid being used more, in ...</td>\n",
       "      <td>0</td>\n",
       "      <td>130</td>\n",
       "      <td>83</td>\n",
       "      <td>Tiffany Trump 's new Secret Service protection...</td>\n",
       "      <td>[tiffani, trump, 's, new, secret, servic, prot...</td>\n",
       "      <td>n't polylactic acid used , relation petroleum ...</td>\n",
       "      <td>[n't, polylact, acid, use, ,, relat, petroleum...</td>\n",
       "      <td>1</td>\n",
       "    </tr>\n",
       "  </tbody>\n",
       "</table>\n",
       "<p>323429 rows × 13 columns</p>\n",
       "</div>"
      ],
      "text/plain": [
       "            id    qid1    qid2  \\\n",
       "0       332278  459256  459257   \n",
       "1       196656  297402  297403   \n",
       "2       113125  184949  184950   \n",
       "3       266232  101283  163744   \n",
       "4       122738   17811   27517   \n",
       "...        ...     ...     ...   \n",
       "323427  111701  182893  182894   \n",
       "323428   90934  152504  152505   \n",
       "323429  363857  493887  493888   \n",
       "323430   29409   54414   54415   \n",
       "323431  402019  535463  535464   \n",
       "\n",
       "                                                question1  \\\n",
       "0         The Iliad and the Odyssey in the Greek culture?   \n",
       "1       What is practical management and what is strat...   \n",
       "2                        How useful is MakeUseOf Answers?   \n",
       "3       Which is the best place to reside in India and...   \n",
       "4       Why do so many people ask questions on Quora t...   \n",
       "...                                                   ...   \n",
       "323427  What are the major stereotypes people have abo...   \n",
       "323428  What are some of the best and most creative pr...   \n",
       "323429      Why is there a road named Aurangzeb in Delhi?   \n",
       "323430  What are the tips given to a teacher to satisf...   \n",
       "323431  Will Tiffany Trump's new Secret Service protec...   \n",
       "\n",
       "                                                question2  is_duplicate  \\\n",
       "0       How do I prove that the pairs of three indepen...             0   \n",
       "1       What are the practical aspects of strategic ma...             0   \n",
       "2       Is there any Q&A site that is not Yahoo answer...             0   \n",
       "3              Which ia the best place to visit in India?             0   \n",
       "4       Why don't many people posting questions on Quo...             1   \n",
       "...                                                   ...           ...   \n",
       "323427  What are the major stereotypes people have abo...             0   \n",
       "323428  Which is one of the worst and most insensible ...             0   \n",
       "323429  How do you justify naming a road after Aurangzeb?             0   \n",
       "323430  Can a high school teacher legally force studen...             0   \n",
       "323431  Why isn't polylactic acid being used more, in ...             0   \n",
       "\n",
       "        question1_len  question2_len  \\\n",
       "0                  47             81   \n",
       "1                  62             55   \n",
       "2                  32             78   \n",
       "3                  51             42   \n",
       "4                 159             68   \n",
       "...               ...            ...   \n",
       "323427             90             89   \n",
       "323428             84             86   \n",
       "323429             45             49   \n",
       "323430             76             90   \n",
       "323431            130             83   \n",
       "\n",
       "                                      question1_tokenized  \\\n",
       "0                           Iliad Odyssey Greek culture ?   \n",
       "1             practical management strategic management ?   \n",
       "2                              useful MakeUseOf Answers ?   \n",
       "3                               best place reside India ?   \n",
       "4       many people ask questions Quora easily answere...   \n",
       "...                                                   ...   \n",
       "323427     major stereotypes people Myanmar extent true ?   \n",
       "323428     best creative print advertisements ever seen ?   \n",
       "323429                       road named Aurangzeb Delhi ?   \n",
       "323430        tips given teacher satisfy students class ?   \n",
       "323431  Tiffany Trump 's new Secret Service protection...   \n",
       "\n",
       "                               question1_stemed_tokenized  \\\n",
       "0                      [iliad, odyssey, greek, cultur, ?]   \n",
       "1                     [practic, manag, strateg, manag, ?]   \n",
       "2                             [use, makeuseof, answer, ?]   \n",
       "3                          [best, place, resid, india, ?]   \n",
       "4       [mani, peopl, ask, question, quora, easili, an...   \n",
       "...                                                   ...   \n",
       "323427  [major, stereotyp, peopl, myanmar, extent, tru...   \n",
       "323428    [best, creativ, print, advertis, ever, seen, ?]   \n",
       "323429                  [road, name, aurangzeb, delhi, ?]   \n",
       "323430  [tip, given, teacher, satisfi, student, class, ?]   \n",
       "323431  [tiffani, trump, 's, new, secret, servic, prot...   \n",
       "\n",
       "                                      question2_tokenized  \\\n",
       "0       prove pairs three independent variables also i...   \n",
       "1                practical aspects strategic management ?   \n",
       "2          Q & site Yahoo answers , hate speech allowed ?   \n",
       "3                             ia best place visit India ?   \n",
       "4       n't many people posting questions Quora check ...   \n",
       "...                                                   ...   \n",
       "323427      major stereotypes people Jordan extent true ?   \n",
       "323428  one worst insensible advertisements ever seen ...   \n",
       "323429                    justify naming road Aurangzeb ?   \n",
       "323430  high school teacher legally force students sta...   \n",
       "323431  n't polylactic acid used , relation petroleum ...   \n",
       "\n",
       "                               question2_stemed_tokenized  common_words_count  \n",
       "0       [prove, pair, three, independ, variabl, also, ...                   1  \n",
       "1                    [practic, aspect, strateg, manag, ?]                   4  \n",
       "2       [q, &, site, yahoo, answer, ,, hate, speech, a...                   2  \n",
       "3                      [ia, best, place, visit, india, ?]                   4  \n",
       "4       [n't, mani, peopl, post, question, quora, chec...                   6  \n",
       "...                                                   ...                 ...  \n",
       "323427  [major, stereotyp, peopl, jordan, extent, true...                   6  \n",
       "323428  [one, worst, insens, advertis, ever, seen, tv, ?]                   4  \n",
       "323429                [justifi, name, road, aurangzeb, ?]                   4  \n",
       "323430  [high, school, teacher, legal, forc, student, ...                   4  \n",
       "323431  [n't, polylact, acid, use, ,, relat, petroleum...                   1  \n",
       "\n",
       "[323429 rows x 13 columns]"
      ]
     },
     "execution_count": 22,
     "metadata": {},
     "output_type": "execute_result"
    }
   ],
   "source": [
    "df_train"
   ]
  },
  {
   "cell_type": "code",
   "execution_count": 23,
   "metadata": {},
   "outputs": [
    {
     "name": "stderr",
     "output_type": "stream",
     "text": [
      "/var/folders/2z/b500qw6s6cx6j167ynb3767c0000gn/T/ipykernel_11566/3314574641.py:1: SettingWithCopyWarning: \n",
      "A value is trying to be set on a copy of a slice from a DataFrame.\n",
      "Try using .loc[row_indexer,col_indexer] = value instead\n",
      "\n",
      "See the caveats in the documentation: https://pandas.pydata.org/pandas-docs/stable/user_guide/indexing.html#returning-a-view-versus-a-copy\n",
      "  df_train['q1_words_count'] = df_train.apply(lambda row: len(row['question1_stemed_tokenized']), axis=1)\n",
      "/var/folders/2z/b500qw6s6cx6j167ynb3767c0000gn/T/ipykernel_11566/3314574641.py:2: SettingWithCopyWarning: \n",
      "A value is trying to be set on a copy of a slice from a DataFrame.\n",
      "Try using .loc[row_indexer,col_indexer] = value instead\n",
      "\n",
      "See the caveats in the documentation: https://pandas.pydata.org/pandas-docs/stable/user_guide/indexing.html#returning-a-view-versus-a-copy\n",
      "  df_train['q2_words_count'] = df_train.apply(lambda row: len(row['question2_stemed_tokenized']), axis=1)\n"
     ]
    }
   ],
   "source": [
    "df_train['q1_words_count'] = df_train.apply(lambda row: len(row['question1_stemed_tokenized']), axis=1)\n",
    "df_train['q2_words_count'] = df_train.apply(lambda row: len(row['question2_stemed_tokenized']), axis=1)"
   ]
  },
  {
   "cell_type": "code",
   "execution_count": 24,
   "metadata": {},
   "outputs": [
    {
     "data": {
      "text/html": [
       "<div>\n",
       "<style scoped>\n",
       "    .dataframe tbody tr th:only-of-type {\n",
       "        vertical-align: middle;\n",
       "    }\n",
       "\n",
       "    .dataframe tbody tr th {\n",
       "        vertical-align: top;\n",
       "    }\n",
       "\n",
       "    .dataframe thead th {\n",
       "        text-align: right;\n",
       "    }\n",
       "</style>\n",
       "<table border=\"1\" class=\"dataframe\">\n",
       "  <thead>\n",
       "    <tr style=\"text-align: right;\">\n",
       "      <th></th>\n",
       "      <th>id</th>\n",
       "      <th>qid1</th>\n",
       "      <th>qid2</th>\n",
       "      <th>question1</th>\n",
       "      <th>question2</th>\n",
       "      <th>is_duplicate</th>\n",
       "      <th>question1_len</th>\n",
       "      <th>question2_len</th>\n",
       "      <th>question1_tokenized</th>\n",
       "      <th>question1_stemed_tokenized</th>\n",
       "      <th>question2_tokenized</th>\n",
       "      <th>question2_stemed_tokenized</th>\n",
       "      <th>common_words_count</th>\n",
       "      <th>q1_words_count</th>\n",
       "      <th>q2_words_count</th>\n",
       "    </tr>\n",
       "  </thead>\n",
       "  <tbody>\n",
       "    <tr>\n",
       "      <th>0</th>\n",
       "      <td>332278</td>\n",
       "      <td>459256</td>\n",
       "      <td>459257</td>\n",
       "      <td>The Iliad and the Odyssey in the Greek culture?</td>\n",
       "      <td>How do I prove that the pairs of three indepen...</td>\n",
       "      <td>0</td>\n",
       "      <td>47</td>\n",
       "      <td>81</td>\n",
       "      <td>Iliad Odyssey Greek culture ?</td>\n",
       "      <td>[iliad, odyssey, greek, cultur, ?]</td>\n",
       "      <td>prove pairs three independent variables also i...</td>\n",
       "      <td>[prove, pair, three, independ, variabl, also, ...</td>\n",
       "      <td>1</td>\n",
       "      <td>5</td>\n",
       "      <td>8</td>\n",
       "    </tr>\n",
       "    <tr>\n",
       "      <th>1</th>\n",
       "      <td>196656</td>\n",
       "      <td>297402</td>\n",
       "      <td>297403</td>\n",
       "      <td>What is practical management and what is strat...</td>\n",
       "      <td>What are the practical aspects of strategic ma...</td>\n",
       "      <td>0</td>\n",
       "      <td>62</td>\n",
       "      <td>55</td>\n",
       "      <td>practical management strategic management ?</td>\n",
       "      <td>[practic, manag, strateg, manag, ?]</td>\n",
       "      <td>practical aspects strategic management ?</td>\n",
       "      <td>[practic, aspect, strateg, manag, ?]</td>\n",
       "      <td>4</td>\n",
       "      <td>5</td>\n",
       "      <td>5</td>\n",
       "    </tr>\n",
       "    <tr>\n",
       "      <th>2</th>\n",
       "      <td>113125</td>\n",
       "      <td>184949</td>\n",
       "      <td>184950</td>\n",
       "      <td>How useful is MakeUseOf Answers?</td>\n",
       "      <td>Is there any Q&amp;A site that is not Yahoo answer...</td>\n",
       "      <td>0</td>\n",
       "      <td>32</td>\n",
       "      <td>78</td>\n",
       "      <td>useful MakeUseOf Answers ?</td>\n",
       "      <td>[use, makeuseof, answer, ?]</td>\n",
       "      <td>Q &amp; site Yahoo answers , hate speech allowed ?</td>\n",
       "      <td>[q, &amp;, site, yahoo, answer, ,, hate, speech, a...</td>\n",
       "      <td>2</td>\n",
       "      <td>4</td>\n",
       "      <td>10</td>\n",
       "    </tr>\n",
       "    <tr>\n",
       "      <th>3</th>\n",
       "      <td>266232</td>\n",
       "      <td>101283</td>\n",
       "      <td>163744</td>\n",
       "      <td>Which is the best place to reside in India and...</td>\n",
       "      <td>Which ia the best place to visit in India?</td>\n",
       "      <td>0</td>\n",
       "      <td>51</td>\n",
       "      <td>42</td>\n",
       "      <td>best place reside India ?</td>\n",
       "      <td>[best, place, resid, india, ?]</td>\n",
       "      <td>ia best place visit India ?</td>\n",
       "      <td>[ia, best, place, visit, india, ?]</td>\n",
       "      <td>4</td>\n",
       "      <td>5</td>\n",
       "      <td>6</td>\n",
       "    </tr>\n",
       "    <tr>\n",
       "      <th>4</th>\n",
       "      <td>122738</td>\n",
       "      <td>17811</td>\n",
       "      <td>27517</td>\n",
       "      <td>Why do so many people ask questions on Quora t...</td>\n",
       "      <td>Why don't many people posting questions on Quo...</td>\n",
       "      <td>1</td>\n",
       "      <td>159</td>\n",
       "      <td>68</td>\n",
       "      <td>many people ask questions Quora easily answere...</td>\n",
       "      <td>[mani, peopl, ask, question, quora, easili, an...</td>\n",
       "      <td>n't many people posting questions Quora check ...</td>\n",
       "      <td>[n't, mani, peopl, post, question, quora, chec...</td>\n",
       "      <td>6</td>\n",
       "      <td>16</td>\n",
       "      <td>10</td>\n",
       "    </tr>\n",
       "  </tbody>\n",
       "</table>\n",
       "</div>"
      ],
      "text/plain": [
       "       id    qid1    qid2                                          question1  \\\n",
       "0  332278  459256  459257    The Iliad and the Odyssey in the Greek culture?   \n",
       "1  196656  297402  297403  What is practical management and what is strat...   \n",
       "2  113125  184949  184950                   How useful is MakeUseOf Answers?   \n",
       "3  266232  101283  163744  Which is the best place to reside in India and...   \n",
       "4  122738   17811   27517  Why do so many people ask questions on Quora t...   \n",
       "\n",
       "                                           question2  is_duplicate  \\\n",
       "0  How do I prove that the pairs of three indepen...             0   \n",
       "1  What are the practical aspects of strategic ma...             0   \n",
       "2  Is there any Q&A site that is not Yahoo answer...             0   \n",
       "3         Which ia the best place to visit in India?             0   \n",
       "4  Why don't many people posting questions on Quo...             1   \n",
       "\n",
       "   question1_len  question2_len  \\\n",
       "0             47             81   \n",
       "1             62             55   \n",
       "2             32             78   \n",
       "3             51             42   \n",
       "4            159             68   \n",
       "\n",
       "                                 question1_tokenized  \\\n",
       "0                      Iliad Odyssey Greek culture ?   \n",
       "1        practical management strategic management ?   \n",
       "2                         useful MakeUseOf Answers ?   \n",
       "3                          best place reside India ?   \n",
       "4  many people ask questions Quora easily answere...   \n",
       "\n",
       "                          question1_stemed_tokenized  \\\n",
       "0                 [iliad, odyssey, greek, cultur, ?]   \n",
       "1                [practic, manag, strateg, manag, ?]   \n",
       "2                        [use, makeuseof, answer, ?]   \n",
       "3                     [best, place, resid, india, ?]   \n",
       "4  [mani, peopl, ask, question, quora, easili, an...   \n",
       "\n",
       "                                 question2_tokenized  \\\n",
       "0  prove pairs three independent variables also i...   \n",
       "1           practical aspects strategic management ?   \n",
       "2     Q & site Yahoo answers , hate speech allowed ?   \n",
       "3                        ia best place visit India ?   \n",
       "4  n't many people posting questions Quora check ...   \n",
       "\n",
       "                          question2_stemed_tokenized  common_words_count  \\\n",
       "0  [prove, pair, three, independ, variabl, also, ...                   1   \n",
       "1               [practic, aspect, strateg, manag, ?]                   4   \n",
       "2  [q, &, site, yahoo, answer, ,, hate, speech, a...                   2   \n",
       "3                 [ia, best, place, visit, india, ?]                   4   \n",
       "4  [n't, mani, peopl, post, question, quora, chec...                   6   \n",
       "\n",
       "   q1_words_count  q2_words_count  \n",
       "0               5               8  \n",
       "1               5               5  \n",
       "2               4              10  \n",
       "3               5               6  \n",
       "4              16              10  "
      ]
     },
     "execution_count": 24,
     "metadata": {},
     "output_type": "execute_result"
    }
   ],
   "source": [
    "df_train.head()"
   ]
  },
  {
   "cell_type": "code",
   "execution_count": 25,
   "metadata": {},
   "outputs": [
    {
     "data": {
      "image/png": "[encoded data removed]",
      "text/plain": [
       "<Figure size 1000x600 with 1 Axes>"
      ]
     },
     "metadata": {},
     "output_type": "display_data"
    }
   ],
   "source": [
    "plt.figure(figsize=(10, 6))\n",
    "sns.histplot(data=df_train, x='common_words_count', hue='is_duplicate', bins=range(df_train['common_words_count'].max() + 2), \n",
    "             multiple='dodge', palette='Set1')\n",
    "plt.xlabel('Common words count')\n",
    "plt.ylabel('Rows count')\n",
    "plt.title('Distribution of Common Word Counts for Duplicates and Non-Duplicates')\n",
    "plt.legend(title='Duplicated', labels=['Non-duplicate', 'Duplicate'])\n",
    "plt.show()"
   ]
  },
  {
   "cell_type": "markdown",
   "metadata": {},
   "source": [
    "Here we see that if common words is less than 5, commonly questions are more likely duplicates, and questions are more likely non-duplicates if common words are greater than 5"
   ]
  },
  {
   "cell_type": "markdown",
   "metadata": {},
   "source": [
    "So, this shows us, that Bag of Words is not really applicable in this task"
   ]
  },
  {
   "cell_type": "markdown",
   "metadata": {},
   "source": [
    "Let's use TF-IDF "
   ]
  },
  {
   "cell_type": "code",
   "execution_count": 26,
   "metadata": {},
   "outputs": [
    {
     "name": "stderr",
     "output_type": "stream",
     "text": [
      "/var/folders/2z/b500qw6s6cx6j167ynb3767c0000gn/T/ipykernel_11566/1217949569.py:1: SettingWithCopyWarning: \n",
      "A value is trying to be set on a copy of a slice from a DataFrame.\n",
      "Try using .loc[row_indexer,col_indexer] = value instead\n",
      "\n",
      "See the caveats in the documentation: https://pandas.pydata.org/pandas-docs/stable/user_guide/indexing.html#returning-a-view-versus-a-copy\n",
      "  df_train['question1_stemed_tokenized_str'] = df_train['question1_stemed_tokenized'].apply(lambda x: ' '.join(x))\n",
      "/var/folders/2z/b500qw6s6cx6j167ynb3767c0000gn/T/ipykernel_11566/1217949569.py:2: SettingWithCopyWarning: \n",
      "A value is trying to be set on a copy of a slice from a DataFrame.\n",
      "Try using .loc[row_indexer,col_indexer] = value instead\n",
      "\n",
      "See the caveats in the documentation: https://pandas.pydata.org/pandas-docs/stable/user_guide/indexing.html#returning-a-view-versus-a-copy\n",
      "  df_train['question2_stemed_tokenized_str'] = df_train['question2_stemed_tokenized'].apply(lambda x: ' '.join(x))\n"
     ]
    }
   ],
   "source": [
    "df_train['question1_stemed_tokenized_str'] = df_train['question1_stemed_tokenized'].apply(lambda x: ' '.join(x))\n",
    "df_train['question2_stemed_tokenized_str'] = df_train['question2_stemed_tokenized'].apply(lambda x: ' '.join(x))"
   ]
  },
  {
   "cell_type": "code",
   "execution_count": 27,
   "metadata": {},
   "outputs": [
    {
     "name": "stderr",
     "output_type": "stream",
     "text": [
      "/var/folders/2z/b500qw6s6cx6j167ynb3767c0000gn/T/ipykernel_11566/2897027628.py:1: SettingWithCopyWarning: \n",
      "A value is trying to be set on a copy of a slice from a DataFrame.\n",
      "Try using .loc[row_indexer,col_indexer] = value instead\n",
      "\n",
      "See the caveats in the documentation: https://pandas.pydata.org/pandas-docs/stable/user_guide/indexing.html#returning-a-view-versus-a-copy\n",
      "  df_train['combined'] = df_train['question1_stemed_tokenized_str']+' '+df_train['question2_stemed_tokenized_str']\n"
     ]
    }
   ],
   "source": [
    "df_train['combined'] = df_train['question1_stemed_tokenized_str']+' '+df_train['question2_stemed_tokenized_str']"
   ]
  },
  {
   "cell_type": "code",
   "execution_count": 28,
   "metadata": {},
   "outputs": [],
   "source": [
    "tf_idf = TfidfVectorizer()\n",
    "tf_idf_matrix = tf_idf.fit_transform(df_train['combined'])"
   ]
  },
  {
   "cell_type": "code",
   "execution_count": 29,
   "metadata": {},
   "outputs": [
    {
     "data": {
      "text/plain": [
       "array(['00', '000', '0000', ..., '하지만', '한글', 'ﬁnd'], dtype=object)"
      ]
     },
     "execution_count": 29,
     "metadata": {},
     "output_type": "execute_result"
    }
   ],
   "source": [
    "tf_idf.get_feature_names_out()"
   ]
  },
  {
   "cell_type": "code",
   "execution_count": 30,
   "metadata": {},
   "outputs": [
    {
     "data": {
      "text/plain": [
       "(323429, 61797)"
      ]
     },
     "execution_count": 30,
     "metadata": {},
     "output_type": "execute_result"
    }
   ],
   "source": [
    "tf_idf_matrix.shape"
   ]
  },
  {
   "cell_type": "code",
   "execution_count": 31,
   "metadata": {},
   "outputs": [],
   "source": [
    "X_train, X_test, y_train, y_test = train_test_split(tf_idf_matrix, df_train['is_duplicate'], test_size=0.25, random_state=42)"
   ]
  },
  {
   "cell_type": "code",
   "execution_count": 32,
   "metadata": {},
   "outputs": [],
   "source": [
    "logisticModel = LogisticRegression(solver='liblinear', max_iter=1000, n_jobs=100)\n",
    "logisticModel.fit(X_train, y_train)\n",
    "y_train_pred = logisticModel.predict(X_train)\n",
    "y_train_proba = logisticModel.predict_proba(X_train)"
   ]
  },
  {
   "cell_type": "code",
   "execution_count": 33,
   "metadata": {},
   "outputs": [
    {
     "data": {
      "text/plain": [
       "array([0.33030198, 0.0834872 , 0.46946638, ..., 0.21579145, 0.06298957,\n",
       "       0.75268263])"
      ]
     },
     "execution_count": 33,
     "metadata": {},
     "output_type": "execute_result"
    }
   ],
   "source": [
    "y_train_proba[:, 1]"
   ]
  },
  {
   "cell_type": "code",
   "execution_count": 34,
   "metadata": {},
   "outputs": [
    {
     "name": "stdout",
     "output_type": "stream",
     "text": [
      "Log loss value=0.48505241510279096, roc_auc_score value=0.7235485129309387\n"
     ]
    }
   ],
   "source": [
    "log_loss_val = log_loss(y_train, y_train_proba[:, 1])\n",
    "roc_auc_val = roc_auc_score(y_train, y_train_pred)\n",
    "print('Log loss value={}, roc_auc_score value={}'.format(log_loss_val, roc_auc_val))"
   ]
  },
  {
   "cell_type": "code",
   "execution_count": null,
   "metadata": {},
   "outputs": [
    {
     "name": "stdout",
     "output_type": "stream",
     "text": [
      "Log loss TEST value=0.5142958426844461, roc_auc_score value=0.70308174334583\n"
     ]
    }
   ],
   "source": [
    "y_test_pred = logisticModel.predict(X_test)\n",
    "y_test_proba = logisticModel.predict_proba(X_test)\n",
    "log_loss_val = log_loss(y_test, y_test_proba[:, 1])\n",
    "roc_auc_val = roc_auc_score(y_test, y_test_pred)\n",
    "print('Log loss VAL value={}, roc_auc_score value={}'.format(log_loss_val, roc_auc_val))"
   ]
  },
  {
   "cell_type": "markdown",
   "metadata": {},
   "source": [
    "Results are not so good with simple Logistic Resgression model"
   ]
  },
  {
   "cell_type": "markdown",
   "metadata": {},
   "source": []
  }
 ],
 "metadata": {
  "kernelspec": {
   "display_name": ".venv",
   "language": "python",
   "name": "python3"
  },
  "language_info": {
   "codemirror_mode": {
    "name": "ipython",
    "version": 3
   },
   "file_extension": ".py",
   "mimetype": "text/x-python",
   "name": "python",
   "nbconvert_exporter": "python",
   "pygments_lexer": "ipython3",
   "version": "3.9.6"
  }
 },
 "nbformat": 4,
 "nbformat_minor": 2
}
